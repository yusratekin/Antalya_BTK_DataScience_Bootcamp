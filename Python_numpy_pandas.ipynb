{
 "cells": [
  {
   "cell_type": "code",
   "execution_count": 1,
   "id": "c938d53f-6e45-448d-b634-15a3724e9299",
   "metadata": {},
   "outputs": [
    {
     "name": "stdout",
     "output_type": "stream",
     "text": [
      "Requirement already satisfied: pandas in c:\\users\\lenovo\\anaconda3\\lib\\site-packages (2.1.4)\n",
      "Requirement already satisfied: numpy<2,>=1.23.2 in c:\\users\\lenovo\\anaconda3\\lib\\site-packages (from pandas) (1.26.4)\n",
      "Requirement already satisfied: python-dateutil>=2.8.2 in c:\\users\\lenovo\\anaconda3\\lib\\site-packages (from pandas) (2.8.2)\n",
      "Requirement already satisfied: pytz>=2020.1 in c:\\users\\lenovo\\anaconda3\\lib\\site-packages (from pandas) (2023.3.post1)\n",
      "Requirement already satisfied: tzdata>=2022.1 in c:\\users\\lenovo\\anaconda3\\lib\\site-packages (from pandas) (2023.3)\n",
      "Requirement already satisfied: six>=1.5 in c:\\users\\lenovo\\anaconda3\\lib\\site-packages (from python-dateutil>=2.8.2->pandas) (1.16.0)\n",
      "Note: you may need to restart the kernel to use updated packages.\n"
     ]
    }
   ],
   "source": [
    "pip install pandas"
   ]
  },
  {
   "cell_type": "code",
   "execution_count": 2,
   "id": "fb5bf7c1-94d8-4f53-b5df-5c4ad7b231bc",
   "metadata": {},
   "outputs": [],
   "source": [
    "#python'da sayı-metin-araç açıklama"
   ]
  },
  {
   "cell_type": "code",
   "execution_count": 3,
   "id": "66a6381b-a6bd-4495-a3ba-f5b7a766785f",
   "metadata": {},
   "outputs": [
    {
     "name": "stdout",
     "output_type": "stream",
     "text": [
      "merhaba\n"
     ]
    }
   ],
   "source": [
    "print(\"merhaba\")"
   ]
  },
  {
   "cell_type": "code",
   "execution_count": 5,
   "id": "5d46acaf-0392-4f30-8295-6d5e4dabc514",
   "metadata": {},
   "outputs": [
    {
     "name": "stdout",
     "output_type": "stream",
     "text": [
      "123\n",
      "123\n",
      "yüsra\n"
     ]
    }
   ],
   "source": [
    "print(\"123\")\n",
    "print(123)\n",
    "print(\"yüsra\")"
   ]
  },
  {
   "cell_type": "code",
   "execution_count": 9,
   "id": "88cc6078-33cd-4829-ac0b-f834d0c11c0a",
   "metadata": {},
   "outputs": [
    {
     "name": "stdout",
     "output_type": "stream",
     "text": [
      "11\n",
      "15\n",
      "26\n",
      "11 15 26\n"
     ]
    }
   ],
   "source": [
    "x=11\n",
    "y=15\n",
    "z=x+y\n",
    "print(x)\n",
    "print(y)\n",
    "print(z)\n",
    "print(x,y,z)"
   ]
  },
  {
   "cell_type": "raw",
   "id": "efc3bbc5-ff07-4339-b61c-282bf5f063da",
   "metadata": {},
   "source": [
    "print('yüsra','TEKİN',sep=\"-\")"
   ]
  },
  {
   "cell_type": "code",
   "execution_count": 16,
   "id": "c4426ca4-d743-4e6a-814c-1d1947e1f652",
   "metadata": {},
   "outputs": [
    {
     "name": "stdout",
     "output_type": "stream",
     "text": [
      "11\n",
      "15-26\n"
     ]
    }
   ],
   "source": [
    "print(x, end=\"\\n\")#varsayılan değer /n\n",
    "print(y, end=\"-\")\n",
    "print(z)"
   ]
  },
  {
   "cell_type": "code",
   "execution_count": 17,
   "id": "cbdecf4f-9592-40d4-8603-ec3853ef1c42",
   "metadata": {},
   "outputs": [
    {
     "data": {
      "text/plain": [
       "8"
      ]
     },
     "execution_count": 17,
     "metadata": {},
     "output_type": "execute_result"
    }
   ],
   "source": [
    "2**3"
   ]
  },
  {
   "cell_type": "code",
   "execution_count": 18,
   "id": "ec245fc8-148f-4fca-a203-f0c9960f01a2",
   "metadata": {},
   "outputs": [
    {
     "data": {
      "text/plain": [
       "10"
      ]
     },
     "execution_count": 18,
     "metadata": {},
     "output_type": "execute_result"
    }
   ],
   "source": [
    "5*5\n",
    "5*2"
   ]
  },
  {
   "cell_type": "code",
   "execution_count": 19,
   "id": "998dbb16-2fe1-4484-b3eb-60b6fd30fc3c",
   "metadata": {},
   "outputs": [
    {
     "name": "stdout",
     "output_type": "stream",
     "text": [
      "13\n"
     ]
    }
   ],
   "source": [
    "print(2**3+5)"
   ]
  },
  {
   "cell_type": "code",
   "execution_count": 20,
   "id": "8569558a-61fc-4522-89ea-37f9f4ec8804",
   "metadata": {},
   "outputs": [
    {
     "data": {
      "text/plain": [
       "'yüsra'"
      ]
     },
     "execution_count": 20,
     "metadata": {},
     "output_type": "execute_result"
    }
   ],
   "source": [
    "\"yüsra\""
   ]
  },
  {
   "cell_type": "code",
   "execution_count": 22,
   "id": "e5d2aa04-1248-43f3-9a23-61baae71f586",
   "metadata": {},
   "outputs": [
    {
     "name": "stdout",
     "output_type": "stream",
     "text": [
      "BTK\n",
      "BTK\n",
      "BTK\n",
      "BTK\n",
      "BTK\n",
      "\n",
      "BTKBTKBTKBTKBTK\n"
     ]
    }
   ],
   "source": [
    "print(5*'BTK\\n')\n",
    "print(5*'BTK')"
   ]
  },
  {
   "cell_type": "code",
   "execution_count": 24,
   "id": "cd698848-dd0b-4dcc-bc67-a69e8e2d9fab",
   "metadata": {},
   "outputs": [
    {
     "name": "stdout",
     "output_type": "stream",
     "text": [
      "BTK\tBTK\tBTK\tBTK\tBTK\tBTK\tBTK\tBTK\tBTK\tBTK\tBTK\tBTK\tBTK\tBTK\tBTK\tBTK\tBTK\tBTK\tBTK\tBTK\tBTK\tBTK\tBTK\tBTK\tBTK\tBTK\tBTK\tBTK\tBTK\tBTK\tBTK\tBTK\tBTK\tBTK\tBTK\tBTK\tBTK\tBTK\tBTK\tBTK\tBTK\tBTK\tBTK\tBTK\tBTK\tBTK\tBTK\tBTK\tBTK\tBTK\tBTK\tBTK\tBTK\tBTK\tBTK\tBTK\tBTK\tBTK\tBTK\tBTK\tBTK\tBTK\tBTK\tBTK\tBTK\tBTK\tBTK\tBTK\tBTK\tBTK\tBTK\tBTK\tBTK\tBTK\tBTK\tBTK\tBTK\tBTK\tBTK\tBTK\tBTK\tBTK\tBTK\tBTK\tBTK\tBTK\tBTK\tBTK\tBTK\tBTK\tBTK\tBTK\tBTK\tBTK\tBTK\tBTK\tBTK\tBTK\tBTK\tBTK\t\n"
     ]
    }
   ],
   "source": [
    "print(100*'BTK\\t')"
   ]
  },
  {
   "cell_type": "code",
   "execution_count": 25,
   "id": "038280ec-f088-4a82-b11c-a8458c038a3a",
   "metadata": {},
   "outputs": [
    {
     "name": "stdout",
     "output_type": "stream",
     "text": [
      "9+5 14\n",
      "9-5 4\n",
      "9*5 45\n",
      "9/5 1.8\n",
      "9%5 4\n",
      "9**5 59049\n",
      "9//5 1\n"
     ]
    }
   ],
   "source": [
    "#Aritmetik operatörler\n",
    "print(\"9+5\", 9+5)\n",
    "print(\"9-5\", 9-5)\n",
    "print(\"9*5\",9*5)\n",
    "print(\"9/5\",9/5)\n",
    "print(\"9%5\", 9%5)#mod kalan\n",
    "print(\"9**5\", 9**5)\n",
    "print(\"9//5\", 9//5)#tam bölme\n"
   ]
  },
  {
   "cell_type": "code",
   "execution_count": 34,
   "id": "a18ed842-2c5f-4527-8cbd-98556b87df22",
   "metadata": {},
   "outputs": [
    {
     "name": "stdout",
     "output_type": "stream",
     "text": [
      "<class 'int'>\n",
      "<class 'int'>\n",
      "<class 'str'>\n",
      "<class 'float'>\n",
      "<class 'complex'>\n",
      "<class 'bool'>\n"
     ]
    }
   ],
   "source": [
    "#Değişkenler\n",
    "sayi1=10\n",
    "print(type(sayi1))\n",
    "sayi2=12\n",
    "print(type(sayi2))\n",
    "sayi5=\"yüsra\"\n",
    "print(type(sayi5))#type fonksiyonu değişenin yada değerin türünü verir.\n",
    "sayi4=10.\n",
    "print(type(sayi4))\n",
    "#complex sayı\n",
    "sayi2=5+3j\n",
    "print(type(sayi2))\n",
    "ehliyet=True\n",
    "print(type(ehliyet))"
   ]
  },
  {
   "cell_type": "code",
   "execution_count": 35,
   "id": "8c8db115-1385-4609-8f20-f4e7931db2ad",
   "metadata": {},
   "outputs": [
    {
     "name": "stdout",
     "output_type": "stream",
     "text": [
      "True\n",
      "False\n",
      "False\n",
      "True\n"
     ]
    }
   ],
   "source": [
    "#karşılaştırma operatötleri\n",
    "print(sayi1>5) #Büyük mü\n",
    "print(sayi1<5) #küçük mü\n",
    "print(sayi1==5)\n",
    "print(sayi1!=sayi2)\n",
    "\n"
   ]
  },
  {
   "cell_type": "markdown",
   "id": "6428553e-9a3e-43c7-92dd-60665a4b885d",
   "metadata": {
    "jp-MarkdownHeadingCollapsed": true
   },
   "source": [
    "#mantıksal değerler\n",
    "universite=True\n",
    "ehliyet=True\n",
    "print(universite end ehliyet)"
   ]
  },
  {
   "cell_type": "code",
   "execution_count": 39,
   "id": "2033ab4e-67fa-4360-8b0c-4acc1b16868a",
   "metadata": {},
   "outputs": [
    {
     "data": {
      "text/plain": [
       "True"
      ]
     },
     "execution_count": 39,
     "metadata": {},
     "output_type": "execute_result"
    }
   ],
   "source": [
    "#mantıksal değerler \n",
    "universite=True\n",
    "yas=25\n",
    "ehliyet=True \n",
    "tecrube=4\n",
    "#şart 25 ve altıüniversite mezunu veya 5 yıl tecrübe zorunlu\n",
    "yas<=35 and (universite or tecrube>=5) and ehliyet"
   ]
  },
  {
   "cell_type": "code",
   "execution_count": 40,
   "id": "a494fa6f-766b-4624-b9c4-f1ae30063fd0",
   "metadata": {},
   "outputs": [
    {
     "name": "stdin",
     "output_type": "stream",
     "text": [
      "Yas: 26\n",
      "Ehliyet var mı? 1-evet:, 0-hayır: 1\n",
      "Üniversite mezunu  1-evet:, 0-hayır: 1\n",
      "Tecrübe: 0\n"
     ]
    },
    {
     "name": "stdout",
     "output_type": "stream",
     "text": [
      "Mülakata girmeye hak kazanamadınız\n",
      "Yaş koşulu sağlamıyor\n",
      "Üniversite veya iş tecrübesini sağlamıyor\n"
     ]
    }
   ],
   "source": [
    "yas=int(input(\"Yas:\"))\n",
    "ehliyet= bool(int(input(\"Ehliyet var mı? 1-evet:, 0-hayır:\")))\n",
    "universite=bool(int(input(\"Üniversite mezunu  1-evet:, 0-hayır:\")))\n",
    "tecrube=int(input(\"Tecrübe:\"))\n",
    "if yas<=25 and (universite or tecrube>=5) and ehliyet:\n",
    "    print(\"Mülakatagirmeye hak kazandı\")\n",
    "else:\n",
    "    print(\"Mülakata girmeye hak kazanamadınız\")\n",
    "    if yas>25:\n",
    "        print(\"Yaş koşulu sağlamıyor\")\n",
    "    if ehliyet==0:\n",
    "        print(\"Ehliyet yok\")\n",
    "    if universite!=0 and tecrube<5:\n",
    "        print(\"Üniversite veya iş tecrübesini sağlamıyor\")\n",
    "        \n"
   ]
  },
  {
   "cell_type": "code",
   "execution_count": 42,
   "id": "3e60280e-53e8-416a-a5d2-20fb5b0baaba",
   "metadata": {},
   "outputs": [
    {
     "name": "stdin",
     "output_type": "stream",
     "text": [
      "Vize notunuzu giriniz:  67\n",
      "Vize ağırlığını giriniz:  3\n",
      "Final notunuzu giriniz:  90\n",
      "Final ağırlığını giriniz %:  5\n",
      "Derse devam notunu giriniz:  80\n",
      "Derse devam ağırlığını giriniz:  80\n"
     ]
    },
    {
     "name": "stdout",
     "output_type": "stream",
     "text": [
      "Ortalama:  70.51\n",
      "BC\n"
     ]
    }
   ],
   "source": [
    "def ortalama_hesaplama():\n",
    "    vize = int(input(\"Vize notunuzu giriniz: \"))\n",
    "    vize_yuzde = int(input(\"Vize ağırlığını giriniz: \"))\n",
    "    final = int(input(\"Final notunuzu giriniz: \"))\n",
    "    final_yuzdesi = int(input(\"Final ağırlığını giriniz %: \"))\n",
    "    derse_devam = int(input(\"Derse devam notunu giriniz: \"))\n",
    "    derse_devam_yuzdesi = int(input(\"Derse devam ağırlığını giriniz: \"))\n",
    "\n",
    "    not_ort = ((vize * vize_yuzde) / 100) + ((final * final_yuzdesi) / 100) + ((derse_devam * derse_devam_yuzdesi) / 100)\n",
    "    print(\"Ortalama: \", not_ort)\n",
    "\n",
    "    if not_ort >= 90:\n",
    "        print(\"AA\")\n",
    "    elif not_ort >= 80:\n",
    "        print(\"BB\")\n",
    "    elif not_ort >= 70:\n",
    "        print(\"BC\")\n",
    "    elif not_ort >= 60:\n",
    "        print(\"CC\")\n",
    "    elif not_ort >= 50:\n",
    "        print(\"CD\")\n",
    "    elif not_ort >= 40:\n",
    "        print(\"DD\")\n",
    "    else:\n",
    "        print(\"Kaldı\")\n",
    "\n",
    "ortalama_hesaplama()\n"
   ]
  },
  {
   "cell_type": "code",
   "execution_count": 3,
   "id": "df63fd86-3607-488e-a03b-0f125f706c57",
   "metadata": {},
   "outputs": [
    {
     "name": "stdout",
     "output_type": "stream",
     "text": [
      "0 .sayi Merhaba\n",
      "1 .sayi Merhaba\n",
      "2 .sayi Merhaba\n",
      "3 .sayi Merhaba\n",
      "4 .sayi Merhaba\n",
      "5 .sayi Merhaba\n",
      "6 .sayi Merhaba\n",
      "7 .sayi Merhaba\n",
      "8 .sayi Merhaba\n",
      "9 .sayi Merhaba\n"
     ]
    }
   ],
   "source": [
    "#dögüler\n",
    "sayi=0\n",
    "while sayi<10:\n",
    "    print(sayi, \".sayi\",\"Merhaba\")\n",
    "    sayi+=1 #sayi=sayi+1 sayiyi artir"
   ]
  },
  {
   "cell_type": "code",
   "execution_count": 4,
   "id": "28d1f14f-7a5f-4b90-bb64-a400348be328",
   "metadata": {},
   "outputs": [
    {
     "name": "stdout",
     "output_type": "stream",
     "text": [
      "0 .sayi Merhaba\n",
      "1 .sayi Merhaba\n",
      "2 .sayi Merhaba\n",
      "3 .sayi Merhaba\n",
      "4 .sayi Merhaba\n",
      "5 .sayi Merhaba\n",
      "6 .sayi Merhaba\n",
      "7 .sayi Merhaba\n",
      "8 .sayi Merhaba\n",
      "9 .sayi Merhaba\n"
     ]
    }
   ],
   "source": [
    "for i in range(10):\n",
    "    print(i,\".sayi\",\"Merhaba\")"
   ]
  },
  {
   "cell_type": "code",
   "execution_count": 5,
   "id": "bb5e26e8-b6f5-4bad-bbad-84830a2fe1ff",
   "metadata": {},
   "outputs": [
    {
     "name": "stdout",
     "output_type": "stream",
     "text": [
      "0 .sayi Merhaba\n",
      "2 .sayi Merhaba\n",
      "4 .sayi Merhaba\n",
      "6 .sayi Merhaba\n",
      "8 .sayi Merhaba\n"
     ]
    }
   ],
   "source": [
    "for i in range(0,10,2): #başlangıç, bitiş ve step\n",
    "    print(i,\".sayi\",\"Merhaba\")"
   ]
  },
  {
   "cell_type": "code",
   "execution_count": 8,
   "id": "68a425b0-06e0-44e5-a9a3-e9a9acc3388f",
   "metadata": {},
   "outputs": [
    {
     "name": "stdout",
     "output_type": "stream",
     "text": [
      "1\n",
      "4\n",
      "9\n",
      "16\n",
      "25\n",
      "36\n",
      "49\n",
      "64\n",
      "81\n",
      "100\n"
     ]
    }
   ],
   "source": [
    "sayi_listesi=list(range(1,11))\n",
    "sayi_listesi\n",
    "for sayi in sayi_listesi:\n",
    "    print(sayi**2)\n"
   ]
  },
  {
   "cell_type": "code",
   "execution_count": 9,
   "id": "97a46841-bf70-4a4f-bf37-c330c9c5f224",
   "metadata": {},
   "outputs": [
    {
     "data": {
      "text/plain": [
       "[1, 4, 9, 16, 25, 36]"
      ]
     },
     "execution_count": 9,
     "metadata": {},
     "output_type": "execute_result"
    }
   ],
   "source": [
    "#liste fonksiyon uygulama\n",
    "liste= [1, 2, 3, 4, 5, 6]\n",
    "def kare_al(x):\n",
    "    return x**2\n",
    "sonuc_listesi= [kare_al(i) for i in liste]\n",
    "sonuc_listesi\n"
   ]
  },
  {
   "cell_type": "code",
   "execution_count": 10,
   "id": "d2c602eb-c4fa-403a-a093-687783ae7749",
   "metadata": {},
   "outputs": [
    {
     "data": {
      "text/plain": [
       "[1, 4, 9, 16, 25, 36]"
      ]
     },
     "execution_count": 10,
     "metadata": {},
     "output_type": "execute_result"
    }
   ],
   "source": [
    "sonuc_listesi=[i**2 for i in liste]\n",
    "sonuc_listesi"
   ]
  },
  {
   "cell_type": "code",
   "execution_count": 11,
   "id": "723a6f22-c88a-4c5c-871f-589533bc328e",
   "metadata": {},
   "outputs": [
    {
     "name": "stdout",
     "output_type": "stream",
     "text": [
      "Y\n",
      "ü\n",
      "s\n",
      "r\n",
      "a\n"
     ]
    }
   ],
   "source": [
    "#karakter dizileri\n",
    "ad=\"Yüsra\"\n",
    "for harf in ad:\n",
    "    print(harf)"
   ]
  },
  {
   "cell_type": "code",
   "execution_count": 12,
   "id": "a1422d10-270d-4d2e-ab78-6b07db07af38",
   "metadata": {},
   "outputs": [
    {
     "data": {
      "text/plain": [
       "'Y'"
      ]
     },
     "execution_count": 12,
     "metadata": {},
     "output_type": "execute_result"
    }
   ],
   "source": [
    "ad[0] #index0 dan başlar"
   ]
  },
  {
   "cell_type": "code",
   "execution_count": 13,
   "id": "15c6e464-bbc3-4d45-8dad-e86af068feae",
   "metadata": {},
   "outputs": [
    {
     "data": {
      "text/plain": [
       "'Ysa'"
      ]
     },
     "execution_count": 13,
     "metadata": {},
     "output_type": "execute_result"
    }
   ],
   "source": [
    "ad[0:5:2] #başlangıç: bitiş: step"
   ]
  },
  {
   "cell_type": "code",
   "execution_count": 14,
   "id": "c818ae26-ffd8-49c4-9888-617b629e9cc4",
   "metadata": {},
   "outputs": [
    {
     "data": {
      "text/plain": [
       "'a'"
      ]
     },
     "execution_count": 14,
     "metadata": {},
     "output_type": "execute_result"
    }
   ],
   "source": [
    "ad[-1] # sondan birinci"
   ]
  },
  {
   "cell_type": "code",
   "execution_count": 15,
   "id": "c9c88ec9-a7db-4df7-9321-f069c55314ba",
   "metadata": {},
   "outputs": [
    {
     "data": {
      "text/plain": [
       "'Yüsr'"
      ]
     },
     "execution_count": 15,
     "metadata": {},
     "output_type": "execute_result"
    }
   ],
   "source": [
    "ad[:-1]"
   ]
  },
  {
   "cell_type": "code",
   "execution_count": 16,
   "id": "e96c2230-99b7-466a-8c2d-46c3151ef74c",
   "metadata": {},
   "outputs": [
    {
     "data": {
      "text/plain": [
       "'arsüY'"
      ]
     },
     "execution_count": 16,
     "metadata": {},
     "output_type": "execute_result"
    }
   ],
   "source": [
    "ad[-1::-1]"
   ]
  },
  {
   "cell_type": "code",
   "execution_count": 50,
   "id": "4d9a5df7-7248-49e1-acd9-6880f674fbb1",
   "metadata": {},
   "outputs": [
    {
     "name": "stdout",
     "output_type": "stream",
     "text": [
      "Al**** Ce**** Öz**** \n",
      "\n",
      "sı**** Or**** \n",
      "\n",
      "Yu**** Ba**** Yı**** \n",
      "\n"
     ]
    }
   ],
   "source": [
    "BTK_egitim=['Ali Cemal Özdemir', 'sıla Orak', 'Yusuf Baran Yıldız']\n",
    "for ogrenci in BTK_egitim:\n",
    "    ogr_ad_list=ogrenci.split()\n",
    "    for ad in ogr_ad_list:\n",
    "        print(ad[0:2], \"****\", end=\" \", sep=\"\")\n",
    "    print(\"\\n\")"
   ]
  },
  {
   "cell_type": "code",
   "execution_count": null,
   "id": "3511f414-8d46-4143-bbd7-b3673a96c9dc",
   "metadata": {},
   "outputs": [],
   "source": []
  },
  {
   "cell_type": "code",
   "execution_count": 22,
   "id": "722f57c9-98e5-401b-aeaa-10e68cde4b40",
   "metadata": {},
   "outputs": [],
   "source": [
    "isim_listesi=['Ali Cemal Özdemir', 'sıla Orak', 'Yusuf Baran Yıldız']\n",
    "def ism_gizle(isim_listesi):\n",
    "    for isim in isim_listesi:\n",
    "        isimler=isim.split()\n",
    "        for ad in isimler:\n",
    "            print(ad[0:2], \"****\", end=\" \", sep=\"\")\n",
    "    print(\"\\n\")\n",
    "    "
   ]
  },
  {
   "cell_type": "code",
   "execution_count": 26,
   "id": "4159930b-05ba-4573-93b5-8cd130e6d7ca",
   "metadata": {},
   "outputs": [
    {
     "name": "stdout",
     "output_type": "stream",
     "text": [
      "Al**** Ce**** Öz**** sı**** Or**** Yu**** Ba**** Yı**** \n",
      "\n"
     ]
    }
   ],
   "source": [
    "isim_listesi=['Ali Cemal Özdemir', 'sıla Orak', 'Yusuf Baran Yıldız']\n",
    "ism_gizle(isim_listesi)\n"
   ]
  },
  {
   "cell_type": "code",
   "execution_count": 27,
   "id": "a800e077-f1de-4544-8d8e-07ec00516ef9",
   "metadata": {},
   "outputs": [
    {
     "name": "stdout",
     "output_type": "stream",
     "text": [
      "Yü**** Te**** \n",
      "\n"
     ]
    }
   ],
   "source": [
    "ism_gizle(['Yüsra Tekin'])"
   ]
  },
  {
   "cell_type": "code",
   "execution_count": 28,
   "id": "2aaf7d79-b0c7-4244-a77a-f283cd90a975",
   "metadata": {},
   "outputs": [
    {
     "data": {
      "text/plain": [
       "'elma'"
      ]
     },
     "execution_count": 28,
     "metadata": {},
     "output_type": "execute_result"
    }
   ],
   "source": [
    "#listeler\n",
    "meyveler=[\"elma\",\"armut\",\"muz\",\"elma\"]\n",
    "meyveler[0]"
   ]
  },
  {
   "cell_type": "code",
   "execution_count": 31,
   "id": "0a457c15-73eb-4703-9950-ded2a29a4e80",
   "metadata": {},
   "outputs": [
    {
     "data": {
      "text/plain": [
       "[0, 1, 2, 3, 4]"
      ]
     },
     "execution_count": 31,
     "metadata": {},
     "output_type": "execute_result"
    }
   ],
   "source": [
    "sayilar=[0,1,2,3,4,5,6,7,8,9]\n",
    "sayilar[0:5]"
   ]
  },
  {
   "cell_type": "code",
   "execution_count": 32,
   "id": "d1c7a806-75b0-495a-a961-9c33b7e11119",
   "metadata": {},
   "outputs": [
    {
     "data": {
      "text/plain": [
       "['elma', 'armut', 'muz', 'elma', 'kiraz']"
      ]
     },
     "execution_count": 32,
     "metadata": {},
     "output_type": "execute_result"
    }
   ],
   "source": [
    "#liste metotları\n",
    "meyveler.append(\"kiraz\") #eleman ekle\n",
    "meyveler"
   ]
  },
  {
   "cell_type": "code",
   "execution_count": 33,
   "id": "38506dd4-3d94-4a58-ad5a-27d60d0776f2",
   "metadata": {},
   "outputs": [
    {
     "data": {
      "text/plain": [
       "['elma', 'armut', 'muz', 'kiraz', 'karpuz']"
      ]
     },
     "execution_count": 33,
     "metadata": {},
     "output_type": "execute_result"
    }
   ],
   "source": [
    "meyve1=[\"elma\",\"armut\",\"muz\"]\n",
    "meyve2=[\"kiraz\",\"karpuz\"]\n",
    "meyve1.extend(meyve2) #listeleri birleştirme\n",
    "meyve1"
   ]
  },
  {
   "cell_type": "code",
   "execution_count": 34,
   "id": "f637af21-a608-44aa-ac0c-a3ccfe15c4da",
   "metadata": {},
   "outputs": [
    {
     "data": {
      "text/plain": [
       "[('elma', 1000), ('armut', 5000), ('muz', 3000)]"
      ]
     },
     "execution_count": 34,
     "metadata": {},
     "output_type": "execute_result"
    }
   ],
   "source": [
    "#zip\n",
    "meyve1=[\"elma\",\"armut\",\"muz\"]\n",
    "uretim=[1000, 5000, 3000]\n",
    "meyve_uretimi=zip(meyve1, uretim)\n",
    "list(meyve_uretimi)"
   ]
  },
  {
   "cell_type": "code",
   "execution_count": 35,
   "id": "e01070a9-2737-4066-9525-ce988e1b86fe",
   "metadata": {},
   "outputs": [
    {
     "name": "stdout",
     "output_type": "stream",
     "text": [
      "[0, 2, 4, 6, 8]\n"
     ]
    }
   ],
   "source": [
    "#filtreler\n",
    "sayilar=[0,1,2,3,4,5,6,7,8,9]\n",
    "def cift(sayi):\n",
    "    return sayi%2==0\n",
    "\n",
    "filtre_cift=list(filter(cift,sayilar))\n",
    "print(filtre_cift)"
   ]
  },
  {
   "cell_type": "code",
   "execution_count": 36,
   "id": "e2ff5c1d-181e-43bb-b051-1298005f5928",
   "metadata": {},
   "outputs": [
    {
     "name": "stdout",
     "output_type": "stream",
     "text": [
      "1 Mustafa\n",
      "2 Ali\n",
      "3 Veli\n"
     ]
    }
   ],
   "source": [
    "#enumerate\n",
    "liste=[\"Mustafa\", \"Ali\", \"Veli\"]\n",
    "for indeks,ogrenci in enumerate(liste):\n",
    "    print(indeks+1,ogrenci)"
   ]
  },
  {
   "cell_type": "code",
   "execution_count": 37,
   "id": "52161856-01a8-4ac7-b7d7-35e23f480e97",
   "metadata": {},
   "outputs": [
    {
     "data": {
      "text/plain": [
       "1"
      ]
     },
     "execution_count": 37,
     "metadata": {},
     "output_type": "execute_result"
    }
   ],
   "source": [
    "#index\n",
    "ogrenciler=[\"Mustafa\", \"Ali\", \"Veli\",\"Ali\"]\n",
    "ogrenciler.index(\"Ali\")"
   ]
  },
  {
   "cell_type": "code",
   "execution_count": 38,
   "id": "82f9d5c6-2419-4bc7-a3eb-9a1c12c55791",
   "metadata": {},
   "outputs": [
    {
     "data": {
      "text/plain": [
       "2"
      ]
     },
     "execution_count": 38,
     "metadata": {},
     "output_type": "execute_result"
    }
   ],
   "source": [
    "#aranan ögenin sayısı\n",
    "ogrenciler.count(\"Ali\")"
   ]
  },
  {
   "cell_type": "code",
   "execution_count": 42,
   "id": "7fc9f7b6-8aed-497d-b0b9-2a2a696cf2e5",
   "metadata": {},
   "outputs": [
    {
     "name": "stdout",
     "output_type": "stream",
     "text": [
      "1 Mustafa\n",
      "2 Ali\n",
      "3 Veli\n"
     ]
    }
   ],
   "source": [
    "liste=[\"Mustafa\", \"Ali\", \"Veli\"]\n",
    "for indeks,ogrenci in enumerate(liste):\n",
    "    print(indeks+1,ogrenci)"
   ]
  },
  {
   "cell_type": "raw",
   "id": "de9e16af-128a-4c8a-8fc3-80763222a9cf",
   "metadata": {},
   "source": [
    "ogrenciler.append(\"yüsra\")\n",
    "ogrenciler"
   ]
  },
  {
   "cell_type": "code",
   "execution_count": 45,
   "id": "75bde18c-92a8-4641-8627-57b8ee506869",
   "metadata": {},
   "outputs": [
    {
     "data": {
      "text/plain": [
       "['Yusuf', 'Mustafa', 'Ali', 'Veli', 'Ali', 'yüsra', 'yüsra', 'yüsra']"
      ]
     },
     "execution_count": 45,
     "metadata": {},
     "output_type": "execute_result"
    }
   ],
   "source": [
    "ogrenciler.append(\"yüsra\")\n",
    "ogrenciler"
   ]
  },
  {
   "cell_type": "code",
   "execution_count": 46,
   "id": "c3cf0ad3-eff5-4afc-b1b4-80bcb902e083",
   "metadata": {},
   "outputs": [],
   "source": [
    "ogrenciler.insert(0,\"Yusuf\") # belirtilen indexe öğrenci ekle"
   ]
  },
  {
   "cell_type": "code",
   "execution_count": 47,
   "id": "0c42be2e-08d2-4724-b0d0-478ca3242911",
   "metadata": {},
   "outputs": [
    {
     "data": {
      "text/plain": [
       "['Yusuf', 'Yusuf', 'Mustafa', 'Ali', 'Veli', 'Ali', 'yüsra', 'yüsra', 'yüsra']"
      ]
     },
     "execution_count": 47,
     "metadata": {},
     "output_type": "execute_result"
    }
   ],
   "source": [
    "ogrenciler"
   ]
  },
  {
   "cell_type": "code",
   "execution_count": 48,
   "id": "955c5d94-40aa-43e5-b7a1-67c157e2f2e6",
   "metadata": {},
   "outputs": [
    {
     "data": {
      "text/plain": [
       "['Yusuf', 'Yusuf', 'Mustafa', 'Ali', 'Ali', 'yüsra', 'yüsra', 'yüsra']"
      ]
     },
     "execution_count": 48,
     "metadata": {},
     "output_type": "execute_result"
    }
   ],
   "source": [
    "ogrenciler.remove(\"Veli\") # belirtilen ogeni sil\n",
    "ogrenciler"
   ]
  },
  {
   "cell_type": "code",
   "execution_count": 50,
   "id": "4f5fd270-31d8-4ca2-a2ac-3d399af2af41",
   "metadata": {},
   "outputs": [
    {
     "data": {
      "text/plain": [
       "'yüsra'"
      ]
     },
     "execution_count": 50,
     "metadata": {},
     "output_type": "execute_result"
    }
   ],
   "source": [
    "ogrenciler.pop() # son ogeni sil"
   ]
  },
  {
   "cell_type": "code",
   "execution_count": 51,
   "id": "1ea91b38-985f-4cf7-aae3-d9db804c489f",
   "metadata": {},
   "outputs": [
    {
     "data": {
      "text/plain": [
       "['Yusuf', 'Yusuf', 'Mustafa', 'Ali', 'Ali', 'yüsra']"
      ]
     },
     "execution_count": 51,
     "metadata": {},
     "output_type": "execute_result"
    }
   ],
   "source": [
    "ogrenciler"
   ]
  },
  {
   "cell_type": "code",
   "execution_count": 52,
   "id": "40cc137f-7aaa-4f67-8357-742c4f7140c4",
   "metadata": {},
   "outputs": [
    {
     "data": {
      "text/plain": [
       "'elma'"
      ]
     },
     "execution_count": 52,
     "metadata": {},
     "output_type": "execute_result"
    }
   ],
   "source": [
    "#tuple demetler\n",
    "meyve=(\"elma\",\"armut\",\"muz\")\n",
    "meyve[0]"
   ]
  },
  {
   "cell_type": "code",
   "execution_count": 53,
   "id": "91ae7c7f-0b6a-41ef-b3be-02738daee639",
   "metadata": {},
   "outputs": [
    {
     "data": {
      "text/plain": [
       "'muz'"
      ]
     },
     "execution_count": 53,
     "metadata": {},
     "output_type": "execute_result"
    }
   ],
   "source": [
    "meyve[-1]"
   ]
  },
  {
   "cell_type": "code",
   "execution_count": 54,
   "id": "d2c2b455-6bf8-4394-bf8a-e7eac766a5d9",
   "metadata": {},
   "outputs": [],
   "source": [
    "meyve=(\"elma\",\"armut\",\"muz\", \"elma\")"
   ]
  },
  {
   "cell_type": "code",
   "execution_count": 55,
   "id": "2da5cb96-0d44-4e82-a6f7-ed8fa7438ec9",
   "metadata": {},
   "outputs": [
    {
     "name": "stdout",
     "output_type": "stream",
     "text": [
      "dict_keys(['AI', 'ML', 'DL'])\n",
      "dict_values(['Artificial Intelligence', 'Machine Learning', 'Deep Learning'])\n",
      "dict_items([('AI', 'Artificial Intelligence'), ('ML', 'Machine Learning'), ('DL', 'Deep Learning')])\n"
     ]
    }
   ],
   "source": [
    "#Sözlükler\n",
    "sozluk={\"AI\":\"Artificial Intelligence\",\n",
    "        \"ML\":\"Machine Learning\",\n",
    "        \"DL\":\"Deep Learning\"}\n",
    "keys=sozluk.keys()\n",
    "print(keys)\n",
    "values=sozluk.values()\n",
    "print(values)\n",
    "items=sozluk.items()\n",
    "print(items)"
   ]
  },
  {
   "cell_type": "code",
   "execution_count": 56,
   "id": "c436ca0c-cd43-43f2-9d4a-cc545b184ffb",
   "metadata": {},
   "outputs": [
    {
     "name": "stdin",
     "output_type": "stream",
     "text": [
      "Aranacak kelimeyi giriniz: ML\n"
     ]
    },
    {
     "name": "stdout",
     "output_type": "stream",
     "text": [
      "Machine Learning\n"
     ]
    }
   ],
   "source": [
    "aranan_kelime=input(\"Aranacak kelimeyi giriniz:\")\n",
    "print(sozluk.get(aranan_kelime))"
   ]
  },
  {
   "cell_type": "code",
   "execution_count": 57,
   "id": "ad296a90-2afd-4778-805d-93673210a113",
   "metadata": {},
   "outputs": [
    {
     "data": {
      "text/html": [
       "<div>\n",
       "<style scoped>\n",
       "    .dataframe tbody tr th:only-of-type {\n",
       "        vertical-align: middle;\n",
       "    }\n",
       "\n",
       "    .dataframe tbody tr th {\n",
       "        vertical-align: top;\n",
       "    }\n",
       "\n",
       "    .dataframe thead th {\n",
       "        text-align: right;\n",
       "    }\n",
       "</style>\n",
       "<table border=\"1\" class=\"dataframe\">\n",
       "  <thead>\n",
       "    <tr style=\"text-align: right;\">\n",
       "      <th></th>\n",
       "      <th>Ogrenciler</th>\n",
       "    </tr>\n",
       "  </thead>\n",
       "  <tbody>\n",
       "    <tr>\n",
       "      <th>0</th>\n",
       "      <td>Mustafa</td>\n",
       "    </tr>\n",
       "    <tr>\n",
       "      <th>1</th>\n",
       "      <td>Ali</td>\n",
       "    </tr>\n",
       "    <tr>\n",
       "      <th>2</th>\n",
       "      <td>Veli</td>\n",
       "    </tr>\n",
       "    <tr>\n",
       "      <th>3</th>\n",
       "      <td>Ali</td>\n",
       "    </tr>\n",
       "  </tbody>\n",
       "</table>\n",
       "</div>"
      ],
      "text/plain": [
       "  Ogrenciler\n",
       "0    Mustafa\n",
       "1        Ali\n",
       "2       Veli\n",
       "3        Ali"
      ]
     },
     "execution_count": 57,
     "metadata": {},
     "output_type": "execute_result"
    }
   ],
   "source": [
    "import pandas as pd\n",
    "ogrenciler=[\"Mustafa\",\"Ali\",\"Veli\", \"Ali\"]\n",
    "df=pd.DataFrame(ogrenciler,columns=[\"Ogrenciler\"])\n",
    "df"
   ]
  },
  {
   "cell_type": "code",
   "execution_count": 58,
   "id": "629e871e-11d5-499c-b616-ee9b6b39b096",
   "metadata": {},
   "outputs": [
    {
     "data": {
      "text/html": [
       "<div>\n",
       "<style scoped>\n",
       "    .dataframe tbody tr th:only-of-type {\n",
       "        vertical-align: middle;\n",
       "    }\n",
       "\n",
       "    .dataframe tbody tr th {\n",
       "        vertical-align: top;\n",
       "    }\n",
       "\n",
       "    .dataframe thead th {\n",
       "        text-align: right;\n",
       "    }\n",
       "</style>\n",
       "<table border=\"1\" class=\"dataframe\">\n",
       "  <thead>\n",
       "    <tr style=\"text-align: right;\">\n",
       "      <th></th>\n",
       "      <th>Adi</th>\n",
       "      <th>Soyadı</th>\n",
       "      <th>Numara</th>\n",
       "    </tr>\n",
       "  </thead>\n",
       "  <tbody>\n",
       "    <tr>\n",
       "      <th>0</th>\n",
       "      <td>Mustafa</td>\n",
       "      <td>Cemal</td>\n",
       "      <td>1</td>\n",
       "    </tr>\n",
       "    <tr>\n",
       "      <th>1</th>\n",
       "      <td>Ali</td>\n",
       "      <td>Ozdemir</td>\n",
       "      <td>2</td>\n",
       "    </tr>\n",
       "    <tr>\n",
       "      <th>2</th>\n",
       "      <td>Veli</td>\n",
       "      <td>Yıldız</td>\n",
       "      <td>3</td>\n",
       "    </tr>\n",
       "    <tr>\n",
       "      <th>3</th>\n",
       "      <td>Ali</td>\n",
       "      <td>Ozdemir</td>\n",
       "      <td>4</td>\n",
       "    </tr>\n",
       "  </tbody>\n",
       "</table>\n",
       "</div>"
      ],
      "text/plain": [
       "       Adi   Soyadı  Numara\n",
       "0  Mustafa    Cemal       1\n",
       "1      Ali  Ozdemir       2\n",
       "2     Veli   Yıldız       3\n",
       "3      Ali  Ozdemir       4"
      ]
     },
     "execution_count": 58,
     "metadata": {},
     "output_type": "execute_result"
    }
   ],
   "source": [
    "#sözlükten bir data frame oluşturma\n",
    "ogrenciler={\"Adi\":[\"Mustafa\",\"Ali\",\"Veli\",\"Ali\"],\n",
    "            \"Soyadı\":[\"Cemal\",\"Ozdemir\",\"Yıldız\",\"Ozdemir\"],\n",
    "            \"Numara\":[1,2,3,4]}\n",
    "df=pd.DataFrame(ogrenciler)\n",
    "df"
   ]
  },
  {
   "cell_type": "code",
   "execution_count": 59,
   "id": "0b0b8ab4-a854-4d2c-ad8b-b4d3796a1143",
   "metadata": {},
   "outputs": [],
   "source": [
    "df.to_csv(\"ogrenciler.csv\")"
   ]
  },
  {
   "cell_type": "code",
   "execution_count": 60,
   "id": "deee6db4-8516-4fca-9d89-50d0a33f55d5",
   "metadata": {},
   "outputs": [
    {
     "data": {
      "text/html": [
       "<div>\n",
       "<style scoped>\n",
       "    .dataframe tbody tr th:only-of-type {\n",
       "        vertical-align: middle;\n",
       "    }\n",
       "\n",
       "    .dataframe tbody tr th {\n",
       "        vertical-align: top;\n",
       "    }\n",
       "\n",
       "    .dataframe thead th {\n",
       "        text-align: right;\n",
       "    }\n",
       "</style>\n",
       "<table border=\"1\" class=\"dataframe\">\n",
       "  <thead>\n",
       "    <tr style=\"text-align: right;\">\n",
       "      <th></th>\n",
       "      <th>Unnamed: 0</th>\n",
       "      <th>Adi</th>\n",
       "      <th>Soyadı</th>\n",
       "      <th>Numara</th>\n",
       "    </tr>\n",
       "  </thead>\n",
       "  <tbody>\n",
       "    <tr>\n",
       "      <th>0</th>\n",
       "      <td>0</td>\n",
       "      <td>Mustafa</td>\n",
       "      <td>Cemal</td>\n",
       "      <td>1</td>\n",
       "    </tr>\n",
       "    <tr>\n",
       "      <th>1</th>\n",
       "      <td>1</td>\n",
       "      <td>Ali</td>\n",
       "      <td>Ozdemir</td>\n",
       "      <td>2</td>\n",
       "    </tr>\n",
       "    <tr>\n",
       "      <th>2</th>\n",
       "      <td>2</td>\n",
       "      <td>Veli</td>\n",
       "      <td>Yıldız</td>\n",
       "      <td>3</td>\n",
       "    </tr>\n",
       "    <tr>\n",
       "      <th>3</th>\n",
       "      <td>3</td>\n",
       "      <td>Ali</td>\n",
       "      <td>Ozdemir</td>\n",
       "      <td>4</td>\n",
       "    </tr>\n",
       "  </tbody>\n",
       "</table>\n",
       "</div>"
      ],
      "text/plain": [
       "   Unnamed: 0      Adi   Soyadı  Numara\n",
       "0           0  Mustafa    Cemal       1\n",
       "1           1      Ali  Ozdemir       2\n",
       "2           2     Veli   Yıldız       3\n",
       "3           3      Ali  Ozdemir       4"
      ]
     },
     "execution_count": 60,
     "metadata": {},
     "output_type": "execute_result"
    }
   ],
   "source": [
    "df2=pd.read_csv(\"ogrenciler.csv\")\n",
    "df2"
   ]
  },
  {
   "cell_type": "code",
   "execution_count": null,
   "id": "9be1b71d-aa24-44a7-b8e1-f22ab28c1807",
   "metadata": {},
   "outputs": [],
   "source": []
  }
 ],
 "metadata": {
  "kernelspec": {
   "display_name": "Python 3 (ipykernel)",
   "language": "python",
   "name": "python3"
  },
  "language_info": {
   "codemirror_mode": {
    "name": "ipython",
    "version": 3
   },
   "file_extension": ".py",
   "mimetype": "text/x-python",
   "name": "python",
   "nbconvert_exporter": "python",
   "pygments_lexer": "ipython3",
   "version": "3.11.7"
  }
 },
 "nbformat": 4,
 "nbformat_minor": 5
}
